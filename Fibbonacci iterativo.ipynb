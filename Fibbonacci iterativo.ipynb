{
 "cells": [
  {
   "cell_type": "markdown",
   "metadata": {},
   "source": [
    "## Fibbonnaci iterativo"
   ]
  },
  {
   "cell_type": "code",
   "execution_count": 29,
   "metadata": {},
   "outputs": [],
   "source": [
    "import numpy as np\n",
    "from time import time\n",
    "import matplotlib.pyplot as plt"
   ]
  },
  {
   "cell_type": "code",
   "execution_count": 15,
   "metadata": {},
   "outputs": [],
   "source": [
    "def fibbonacci (n):\n",
    "    ntermino = 0\n",
    "    n1 = 0\n",
    "    n2 = 1\n",
    "    \n",
    "    if n > 1:\n",
    "        for i in range(n-1):\n",
    "            ntermino = n1 + n2\n",
    "            n1 = n2;\n",
    "            n2 = ntermino\n",
    "        return ntermino  \n",
    "\n",
    "    elif n == 1:\n",
    "        return 1\n",
    "        \n",
    "    elif n == 0:\n",
    "        return 0\n",
    "    else:\n",
    "        return -1"
   ]
  },
  {
   "cell_type": "code",
   "execution_count": 32,
   "metadata": {},
   "outputs": [],
   "source": [
    "n = 1000\n",
    "datos = []\n",
    "\n",
    "totalTime = 0\n",
    "for i in range(n):\n",
    "    ti = 0\n",
    "    tf = 0\n",
    "    ti = time()\n",
    "    a = fibbonacci(i)\n",
    "    tf = time()\n",
    "    totalTime = totalTime +(tf - ti)\n",
    "    datos.append(totalTime)\n",
    "    "
   ]
  },
  {
   "cell_type": "code",
   "execution_count": 33,
   "metadata": {},
   "outputs": [
    {
     "data": {
      "text/plain": [
       "<function matplotlib.pyplot.show>"
      ]
     },
     "execution_count": 33,
     "metadata": {},
     "output_type": "execute_result"
    },
    {
     "data": {
      "image/png": "[encoded data removed]",
      "text/plain": [
       "<Figure size 432x288 with 1 Axes>"
      ]
     },
     "metadata": {},
     "output_type": "display_data"
    }
   ],
   "source": [
    "x = np.arange(0,1000,1)\n",
    "plt.plot(x,datos)\n",
    "plt.show"
   ]
  },
  {
   "cell_type": "code",
   "execution_count": null,
   "metadata": {},
   "outputs": [],
   "source": []
  }
 ],
 "metadata": {
  "kernelspec": {
   "display_name": "Python 2",
   "language": "python",
   "name": "python2"
  },
  "language_info": {
   "codemirror_mode": {
    "name": "ipython",
    "version": 2
   },
   "file_extension": ".py",
   "mimetype": "text/x-python",
   "name": "python",
   "nbconvert_exporter": "python",
   "pygments_lexer": "ipython2",
   "version": "2.7.15"
  }
 },
 "nbformat": 4,
 "nbformat_minor": 2
}
